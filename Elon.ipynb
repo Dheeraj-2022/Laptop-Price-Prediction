{
  "nbformat": 4,
  "nbformat_minor": 0,
  "metadata": {
    "colab": {
      "provenance": []
    },
    "kernelspec": {
      "name": "python3",
      "display_name": "Python 3"
    },
    "language_info": {
      "name": "python"
    }
  },
  "cells": [
    {
      "cell_type": "code",
      "execution_count": 48,
      "metadata": {
        "id": "s4zHWrRnf40n"
      },
      "outputs": [],
      "source": [
        "import pandas as pd\n",
        "import numpy as np\n",
        "import re"
      ]
    },
    {
      "cell_type": "code",
      "source": [
        "df=pd.read_csv('laptop_details.csv')\n",
        "df.head()"
      ],
      "metadata": {
        "colab": {
          "base_uri": "https://localhost:8080/",
          "height": 206
        },
        "id": "T2Q_1T1_gKiK",
        "outputId": "b5139906-ad24-4af3-8023-725f4746bb27"
      },
      "execution_count": 49,
      "outputs": [
        {
          "output_type": "execute_result",
          "data": {
            "text/plain": [
              "                                             Product  Rating      MRP  \\\n",
              "0  Lenovo IdeaPad 3 Core i3 11th Gen - (8 GB/256 ...     4.2  ₹36,990   \n",
              "1  Lenovo IdeaPad 3 Core i3 11th Gen - (8 GB/512 ...     4.2  ₹39,990   \n",
              "2  ASUS VivoBook 15 (2022) Core i3 10th Gen - (8 ...     4.3  ₹32,990   \n",
              "3  HP Pavilion Ryzen 5 Hexa Core AMD R5-5600H - (...     4.4  ₹49,990   \n",
              "4  ASUS TUF Gaming F15 Core i5 10th Gen - (8 GB/5...     4.4  ₹49,990   \n",
              "\n",
              "                                             Feature  \n",
              "0  Intel Core i3 Processor (11th Gen)8 GB DDR4 RA...  \n",
              "1  Intel Core i3 Processor (11th Gen)8 GB DDR4 RA...  \n",
              "2  Intel Core i3 Processor (10th Gen)8 GB DDR4 RA...  \n",
              "3  AMD Ryzen 5 Hexa Core Processor8 GB DDR4 RAM64...  \n",
              "4  Intel Core i5 Processor (10th Gen)8 GB DDR4 RA...  "
            ],
            "text/html": [
              "\n",
              "  <div id=\"df-bc0355f9-591d-415d-8806-5e9f39330516\">\n",
              "    <div class=\"colab-df-container\">\n",
              "      <div>\n",
              "<style scoped>\n",
              "    .dataframe tbody tr th:only-of-type {\n",
              "        vertical-align: middle;\n",
              "    }\n",
              "\n",
              "    .dataframe tbody tr th {\n",
              "        vertical-align: top;\n",
              "    }\n",
              "\n",
              "    .dataframe thead th {\n",
              "        text-align: right;\n",
              "    }\n",
              "</style>\n",
              "<table border=\"1\" class=\"dataframe\">\n",
              "  <thead>\n",
              "    <tr style=\"text-align: right;\">\n",
              "      <th></th>\n",
              "      <th>Product</th>\n",
              "      <th>Rating</th>\n",
              "      <th>MRP</th>\n",
              "      <th>Feature</th>\n",
              "    </tr>\n",
              "  </thead>\n",
              "  <tbody>\n",
              "    <tr>\n",
              "      <th>0</th>\n",
              "      <td>Lenovo IdeaPad 3 Core i3 11th Gen - (8 GB/256 ...</td>\n",
              "      <td>4.2</td>\n",
              "      <td>₹36,990</td>\n",
              "      <td>Intel Core i3 Processor (11th Gen)8 GB DDR4 RA...</td>\n",
              "    </tr>\n",
              "    <tr>\n",
              "      <th>1</th>\n",
              "      <td>Lenovo IdeaPad 3 Core i3 11th Gen - (8 GB/512 ...</td>\n",
              "      <td>4.2</td>\n",
              "      <td>₹39,990</td>\n",
              "      <td>Intel Core i3 Processor (11th Gen)8 GB DDR4 RA...</td>\n",
              "    </tr>\n",
              "    <tr>\n",
              "      <th>2</th>\n",
              "      <td>ASUS VivoBook 15 (2022) Core i3 10th Gen - (8 ...</td>\n",
              "      <td>4.3</td>\n",
              "      <td>₹32,990</td>\n",
              "      <td>Intel Core i3 Processor (10th Gen)8 GB DDR4 RA...</td>\n",
              "    </tr>\n",
              "    <tr>\n",
              "      <th>3</th>\n",
              "      <td>HP Pavilion Ryzen 5 Hexa Core AMD R5-5600H - (...</td>\n",
              "      <td>4.4</td>\n",
              "      <td>₹49,990</td>\n",
              "      <td>AMD Ryzen 5 Hexa Core Processor8 GB DDR4 RAM64...</td>\n",
              "    </tr>\n",
              "    <tr>\n",
              "      <th>4</th>\n",
              "      <td>ASUS TUF Gaming F15 Core i5 10th Gen - (8 GB/5...</td>\n",
              "      <td>4.4</td>\n",
              "      <td>₹49,990</td>\n",
              "      <td>Intel Core i5 Processor (10th Gen)8 GB DDR4 RA...</td>\n",
              "    </tr>\n",
              "  </tbody>\n",
              "</table>\n",
              "</div>\n",
              "      <button class=\"colab-df-convert\" onclick=\"convertToInteractive('df-bc0355f9-591d-415d-8806-5e9f39330516')\"\n",
              "              title=\"Convert this dataframe to an interactive table.\"\n",
              "              style=\"display:none;\">\n",
              "        \n",
              "  <svg xmlns=\"http://www.w3.org/2000/svg\" height=\"24px\"viewBox=\"0 0 24 24\"\n",
              "       width=\"24px\">\n",
              "    <path d=\"M0 0h24v24H0V0z\" fill=\"none\"/>\n",
              "    <path d=\"M18.56 5.44l.94 2.06.94-2.06 2.06-.94-2.06-.94-.94-2.06-.94 2.06-2.06.94zm-11 1L8.5 8.5l.94-2.06 2.06-.94-2.06-.94L8.5 2.5l-.94 2.06-2.06.94zm10 10l.94 2.06.94-2.06 2.06-.94-2.06-.94-.94-2.06-.94 2.06-2.06.94z\"/><path d=\"M17.41 7.96l-1.37-1.37c-.4-.4-.92-.59-1.43-.59-.52 0-1.04.2-1.43.59L10.3 9.45l-7.72 7.72c-.78.78-.78 2.05 0 2.83L4 21.41c.39.39.9.59 1.41.59.51 0 1.02-.2 1.41-.59l7.78-7.78 2.81-2.81c.8-.78.8-2.07 0-2.86zM5.41 20L4 18.59l7.72-7.72 1.47 1.35L5.41 20z\"/>\n",
              "  </svg>\n",
              "      </button>\n",
              "      \n",
              "  <style>\n",
              "    .colab-df-container {\n",
              "      display:flex;\n",
              "      flex-wrap:wrap;\n",
              "      gap: 12px;\n",
              "    }\n",
              "\n",
              "    .colab-df-convert {\n",
              "      background-color: #E8F0FE;\n",
              "      border: none;\n",
              "      border-radius: 50%;\n",
              "      cursor: pointer;\n",
              "      display: none;\n",
              "      fill: #1967D2;\n",
              "      height: 32px;\n",
              "      padding: 0 0 0 0;\n",
              "      width: 32px;\n",
              "    }\n",
              "\n",
              "    .colab-df-convert:hover {\n",
              "      background-color: #E2EBFA;\n",
              "      box-shadow: 0px 1px 2px rgba(60, 64, 67, 0.3), 0px 1px 3px 1px rgba(60, 64, 67, 0.15);\n",
              "      fill: #174EA6;\n",
              "    }\n",
              "\n",
              "    [theme=dark] .colab-df-convert {\n",
              "      background-color: #3B4455;\n",
              "      fill: #D2E3FC;\n",
              "    }\n",
              "\n",
              "    [theme=dark] .colab-df-convert:hover {\n",
              "      background-color: #434B5C;\n",
              "      box-shadow: 0px 1px 3px 1px rgba(0, 0, 0, 0.15);\n",
              "      filter: drop-shadow(0px 1px 2px rgba(0, 0, 0, 0.3));\n",
              "      fill: #FFFFFF;\n",
              "    }\n",
              "  </style>\n",
              "\n",
              "      <script>\n",
              "        const buttonEl =\n",
              "          document.querySelector('#df-bc0355f9-591d-415d-8806-5e9f39330516 button.colab-df-convert');\n",
              "        buttonEl.style.display =\n",
              "          google.colab.kernel.accessAllowed ? 'block' : 'none';\n",
              "\n",
              "        async function convertToInteractive(key) {\n",
              "          const element = document.querySelector('#df-bc0355f9-591d-415d-8806-5e9f39330516');\n",
              "          const dataTable =\n",
              "            await google.colab.kernel.invokeFunction('convertToInteractive',\n",
              "                                                     [key], {});\n",
              "          if (!dataTable) return;\n",
              "\n",
              "          const docLinkHtml = 'Like what you see? Visit the ' +\n",
              "            '<a target=\"_blank\" href=https://colab.research.google.com/notebooks/data_table.ipynb>data table notebook</a>'\n",
              "            + ' to learn more about interactive tables.';\n",
              "          element.innerHTML = '';\n",
              "          dataTable['output_type'] = 'display_data';\n",
              "          await google.colab.output.renderOutput(dataTable, element);\n",
              "          const docLink = document.createElement('div');\n",
              "          docLink.innerHTML = docLinkHtml;\n",
              "          element.appendChild(docLink);\n",
              "        }\n",
              "      </script>\n",
              "    </div>\n",
              "  </div>\n",
              "  "
            ]
          },
          "metadata": {},
          "execution_count": 49
        }
      ]
    },
    {
      "cell_type": "code",
      "source": [
        "df.info()"
      ],
      "metadata": {
        "colab": {
          "base_uri": "https://localhost:8080/"
        },
        "id": "PvrgqW3tgMHT",
        "outputId": "26992169-98c6-4434-cf85-95f25640550e"
      },
      "execution_count": 50,
      "outputs": [
        {
          "output_type": "stream",
          "name": "stdout",
          "text": [
            "<class 'pandas.core.frame.DataFrame'>\n",
            "RangeIndex: 720 entries, 0 to 719\n",
            "Data columns (total 4 columns):\n",
            " #   Column   Non-Null Count  Dtype  \n",
            "---  ------   --------------  -----  \n",
            " 0   Product  720 non-null    object \n",
            " 1   Rating   581 non-null    float64\n",
            " 2   MRP      720 non-null    object \n",
            " 3   Feature  720 non-null    object \n",
            "dtypes: float64(1), object(3)\n",
            "memory usage: 22.6+ KB\n"
          ]
        }
      ]
    },
    {
      "cell_type": "code",
      "source": [
        "df.shape"
      ],
      "metadata": {
        "colab": {
          "base_uri": "https://localhost:8080/"
        },
        "id": "z9xEU3_DgQ2Y",
        "outputId": "c9aa2590-7c55-447a-bfa2-31eef76f7e46"
      },
      "execution_count": 51,
      "outputs": [
        {
          "output_type": "execute_result",
          "data": {
            "text/plain": [
              "(720, 4)"
            ]
          },
          "metadata": {},
          "execution_count": 51
        }
      ]
    },
    {
      "cell_type": "code",
      "source": [
        "df.describe()"
      ],
      "metadata": {
        "colab": {
          "base_uri": "https://localhost:8080/",
          "height": 300
        },
        "id": "eiH-BwgmkvhB",
        "outputId": "d3819e62-5486-43dd-8519-ac5cd9daddb7"
      },
      "execution_count": 52,
      "outputs": [
        {
          "output_type": "execute_result",
          "data": {
            "text/plain": [
              "           Rating\n",
              "count  581.000000\n",
              "mean     4.321170\n",
              "std      0.282872\n",
              "min      3.000000\n",
              "25%      4.200000\n",
              "50%      4.300000\n",
              "75%      4.500000\n",
              "max      5.000000"
            ],
            "text/html": [
              "\n",
              "  <div id=\"df-9d76b2b0-b450-4545-8991-8a3547d7ec82\">\n",
              "    <div class=\"colab-df-container\">\n",
              "      <div>\n",
              "<style scoped>\n",
              "    .dataframe tbody tr th:only-of-type {\n",
              "        vertical-align: middle;\n",
              "    }\n",
              "\n",
              "    .dataframe tbody tr th {\n",
              "        vertical-align: top;\n",
              "    }\n",
              "\n",
              "    .dataframe thead th {\n",
              "        text-align: right;\n",
              "    }\n",
              "</style>\n",
              "<table border=\"1\" class=\"dataframe\">\n",
              "  <thead>\n",
              "    <tr style=\"text-align: right;\">\n",
              "      <th></th>\n",
              "      <th>Rating</th>\n",
              "    </tr>\n",
              "  </thead>\n",
              "  <tbody>\n",
              "    <tr>\n",
              "      <th>count</th>\n",
              "      <td>581.000000</td>\n",
              "    </tr>\n",
              "    <tr>\n",
              "      <th>mean</th>\n",
              "      <td>4.321170</td>\n",
              "    </tr>\n",
              "    <tr>\n",
              "      <th>std</th>\n",
              "      <td>0.282872</td>\n",
              "    </tr>\n",
              "    <tr>\n",
              "      <th>min</th>\n",
              "      <td>3.000000</td>\n",
              "    </tr>\n",
              "    <tr>\n",
              "      <th>25%</th>\n",
              "      <td>4.200000</td>\n",
              "    </tr>\n",
              "    <tr>\n",
              "      <th>50%</th>\n",
              "      <td>4.300000</td>\n",
              "    </tr>\n",
              "    <tr>\n",
              "      <th>75%</th>\n",
              "      <td>4.500000</td>\n",
              "    </tr>\n",
              "    <tr>\n",
              "      <th>max</th>\n",
              "      <td>5.000000</td>\n",
              "    </tr>\n",
              "  </tbody>\n",
              "</table>\n",
              "</div>\n",
              "      <button class=\"colab-df-convert\" onclick=\"convertToInteractive('df-9d76b2b0-b450-4545-8991-8a3547d7ec82')\"\n",
              "              title=\"Convert this dataframe to an interactive table.\"\n",
              "              style=\"display:none;\">\n",
              "        \n",
              "  <svg xmlns=\"http://www.w3.org/2000/svg\" height=\"24px\"viewBox=\"0 0 24 24\"\n",
              "       width=\"24px\">\n",
              "    <path d=\"M0 0h24v24H0V0z\" fill=\"none\"/>\n",
              "    <path d=\"M18.56 5.44l.94 2.06.94-2.06 2.06-.94-2.06-.94-.94-2.06-.94 2.06-2.06.94zm-11 1L8.5 8.5l.94-2.06 2.06-.94-2.06-.94L8.5 2.5l-.94 2.06-2.06.94zm10 10l.94 2.06.94-2.06 2.06-.94-2.06-.94-.94-2.06-.94 2.06-2.06.94z\"/><path d=\"M17.41 7.96l-1.37-1.37c-.4-.4-.92-.59-1.43-.59-.52 0-1.04.2-1.43.59L10.3 9.45l-7.72 7.72c-.78.78-.78 2.05 0 2.83L4 21.41c.39.39.9.59 1.41.59.51 0 1.02-.2 1.41-.59l7.78-7.78 2.81-2.81c.8-.78.8-2.07 0-2.86zM5.41 20L4 18.59l7.72-7.72 1.47 1.35L5.41 20z\"/>\n",
              "  </svg>\n",
              "      </button>\n",
              "      \n",
              "  <style>\n",
              "    .colab-df-container {\n",
              "      display:flex;\n",
              "      flex-wrap:wrap;\n",
              "      gap: 12px;\n",
              "    }\n",
              "\n",
              "    .colab-df-convert {\n",
              "      background-color: #E8F0FE;\n",
              "      border: none;\n",
              "      border-radius: 50%;\n",
              "      cursor: pointer;\n",
              "      display: none;\n",
              "      fill: #1967D2;\n",
              "      height: 32px;\n",
              "      padding: 0 0 0 0;\n",
              "      width: 32px;\n",
              "    }\n",
              "\n",
              "    .colab-df-convert:hover {\n",
              "      background-color: #E2EBFA;\n",
              "      box-shadow: 0px 1px 2px rgba(60, 64, 67, 0.3), 0px 1px 3px 1px rgba(60, 64, 67, 0.15);\n",
              "      fill: #174EA6;\n",
              "    }\n",
              "\n",
              "    [theme=dark] .colab-df-convert {\n",
              "      background-color: #3B4455;\n",
              "      fill: #D2E3FC;\n",
              "    }\n",
              "\n",
              "    [theme=dark] .colab-df-convert:hover {\n",
              "      background-color: #434B5C;\n",
              "      box-shadow: 0px 1px 3px 1px rgba(0, 0, 0, 0.15);\n",
              "      filter: drop-shadow(0px 1px 2px rgba(0, 0, 0, 0.3));\n",
              "      fill: #FFFFFF;\n",
              "    }\n",
              "  </style>\n",
              "\n",
              "      <script>\n",
              "        const buttonEl =\n",
              "          document.querySelector('#df-9d76b2b0-b450-4545-8991-8a3547d7ec82 button.colab-df-convert');\n",
              "        buttonEl.style.display =\n",
              "          google.colab.kernel.accessAllowed ? 'block' : 'none';\n",
              "\n",
              "        async function convertToInteractive(key) {\n",
              "          const element = document.querySelector('#df-9d76b2b0-b450-4545-8991-8a3547d7ec82');\n",
              "          const dataTable =\n",
              "            await google.colab.kernel.invokeFunction('convertToInteractive',\n",
              "                                                     [key], {});\n",
              "          if (!dataTable) return;\n",
              "\n",
              "          const docLinkHtml = 'Like what you see? Visit the ' +\n",
              "            '<a target=\"_blank\" href=https://colab.research.google.com/notebooks/data_table.ipynb>data table notebook</a>'\n",
              "            + ' to learn more about interactive tables.';\n",
              "          element.innerHTML = '';\n",
              "          dataTable['output_type'] = 'display_data';\n",
              "          await google.colab.output.renderOutput(dataTable, element);\n",
              "          const docLink = document.createElement('div');\n",
              "          docLink.innerHTML = docLinkHtml;\n",
              "          element.appendChild(docLink);\n",
              "        }\n",
              "      </script>\n",
              "    </div>\n",
              "  </div>\n",
              "  "
            ]
          },
          "metadata": {},
          "execution_count": 52
        }
      ]
    },
    {
      "cell_type": "code",
      "source": [
        "reg = r'^(?:AMD|Intel|M1)[\\s\\w]+Processor'\n",
        "\n",
        "df['Processor'] = df['Feature'].apply(lambda x : re.findall(reg, x))"
      ],
      "metadata": {
        "id": "HgWxCyX2gUSj"
      },
      "execution_count": 53,
      "outputs": []
    },
    {
      "cell_type": "code",
      "source": [
        "reg = r'\\d+\\sGB[\\s\\w]+RAM'\n",
        "\n",
        "df['RAM'] = df['Feature'].apply(lambda x : re.findall(reg, x))"
      ],
      "metadata": {
        "id": "7I3ROFCNgaeq"
      },
      "execution_count": 54,
      "outputs": []
    },
    {
      "cell_type": "code",
      "source": [
        "\n",
        "reg = r'[\\d]+[\\s]bit[\\s\\w]+Operating System'\n",
        "\n",
        "df['OS'] = df['Feature'].apply(lambda x : re.findall(reg, x))"
      ],
      "metadata": {
        "id": "_86hEdIFgcU3"
      },
      "execution_count": 55,
      "outputs": []
    },
    {
      "cell_type": "code",
      "source": [
        "reg = r'[\\d]+\\s(?:GB|TB)\\s(?:HDD|SSD)'\n",
        "\n",
        "df['Storage'] = df['Feature'].apply(lambda x : re.findall(reg, x))"
      ],
      "metadata": {
        "id": "k7DipOh1geeR"
      },
      "execution_count": 56,
      "outputs": []
    },
    {
      "cell_type": "code",
      "source": [
        "reg = r'^\\w+'\n",
        "\n",
        "df['Brand'] = df['Product'].apply(lambda x : re.findall(reg, x))"
      ],
      "metadata": {
        "id": "4_CfIwQ-gf9r"
      },
      "execution_count": 57,
      "outputs": []
    },
    {
      "cell_type": "code",
      "source": [
        "df.head()"
      ],
      "metadata": {
        "colab": {
          "base_uri": "https://localhost:8080/",
          "height": 423
        },
        "id": "ftwV914mghWz",
        "outputId": "2be23090-1143-44f6-d44e-4eb08305bb78"
      },
      "execution_count": 58,
      "outputs": [
        {
          "output_type": "execute_result",
          "data": {
            "text/plain": [
              "                                             Product  Rating      MRP  \\\n",
              "0  Lenovo IdeaPad 3 Core i3 11th Gen - (8 GB/256 ...     4.2  ₹36,990   \n",
              "1  Lenovo IdeaPad 3 Core i3 11th Gen - (8 GB/512 ...     4.2  ₹39,990   \n",
              "2  ASUS VivoBook 15 (2022) Core i3 10th Gen - (8 ...     4.3  ₹32,990   \n",
              "3  HP Pavilion Ryzen 5 Hexa Core AMD R5-5600H - (...     4.4  ₹49,990   \n",
              "4  ASUS TUF Gaming F15 Core i5 10th Gen - (8 GB/5...     4.4  ₹49,990   \n",
              "\n",
              "                                             Feature  \\\n",
              "0  Intel Core i3 Processor (11th Gen)8 GB DDR4 RA...   \n",
              "1  Intel Core i3 Processor (11th Gen)8 GB DDR4 RA...   \n",
              "2  Intel Core i3 Processor (10th Gen)8 GB DDR4 RA...   \n",
              "3  AMD Ryzen 5 Hexa Core Processor8 GB DDR4 RAM64...   \n",
              "4  Intel Core i5 Processor (10th Gen)8 GB DDR4 RA...   \n",
              "\n",
              "                           Processor              RAM  \\\n",
              "0          [Intel Core i3 Processor]  [8 GB DDR4 RAM]   \n",
              "1          [Intel Core i3 Processor]  [8 GB DDR4 RAM]   \n",
              "2          [Intel Core i3 Processor]  [8 GB DDR4 RAM]   \n",
              "3  [AMD Ryzen 5 Hexa Core Processor]  [8 GB DDR4 RAM]   \n",
              "4          [Intel Core i5 Processor]  [8 GB DDR4 RAM]   \n",
              "\n",
              "                                     OS       Storage     Brand  \n",
              "0  [64 bit Windows 11 Operating System]  [256 GB SSD]  [Lenovo]  \n",
              "1  [64 bit Windows 11 Operating System]  [512 GB SSD]  [Lenovo]  \n",
              "2  [64 bit Windows 11 Operating System]  [512 GB SSD]    [ASUS]  \n",
              "3  [64 bit Windows 10 Operating System]  [512 GB SSD]      [HP]  \n",
              "4                                    []  [512 GB SSD]    [ASUS]  "
            ],
            "text/html": [
              "\n",
              "  <div id=\"df-0fdd71a0-7c46-47d0-bf94-3232283c7e27\">\n",
              "    <div class=\"colab-df-container\">\n",
              "      <div>\n",
              "<style scoped>\n",
              "    .dataframe tbody tr th:only-of-type {\n",
              "        vertical-align: middle;\n",
              "    }\n",
              "\n",
              "    .dataframe tbody tr th {\n",
              "        vertical-align: top;\n",
              "    }\n",
              "\n",
              "    .dataframe thead th {\n",
              "        text-align: right;\n",
              "    }\n",
              "</style>\n",
              "<table border=\"1\" class=\"dataframe\">\n",
              "  <thead>\n",
              "    <tr style=\"text-align: right;\">\n",
              "      <th></th>\n",
              "      <th>Product</th>\n",
              "      <th>Rating</th>\n",
              "      <th>MRP</th>\n",
              "      <th>Feature</th>\n",
              "      <th>Processor</th>\n",
              "      <th>RAM</th>\n",
              "      <th>OS</th>\n",
              "      <th>Storage</th>\n",
              "      <th>Brand</th>\n",
              "    </tr>\n",
              "  </thead>\n",
              "  <tbody>\n",
              "    <tr>\n",
              "      <th>0</th>\n",
              "      <td>Lenovo IdeaPad 3 Core i3 11th Gen - (8 GB/256 ...</td>\n",
              "      <td>4.2</td>\n",
              "      <td>₹36,990</td>\n",
              "      <td>Intel Core i3 Processor (11th Gen)8 GB DDR4 RA...</td>\n",
              "      <td>[Intel Core i3 Processor]</td>\n",
              "      <td>[8 GB DDR4 RAM]</td>\n",
              "      <td>[64 bit Windows 11 Operating System]</td>\n",
              "      <td>[256 GB SSD]</td>\n",
              "      <td>[Lenovo]</td>\n",
              "    </tr>\n",
              "    <tr>\n",
              "      <th>1</th>\n",
              "      <td>Lenovo IdeaPad 3 Core i3 11th Gen - (8 GB/512 ...</td>\n",
              "      <td>4.2</td>\n",
              "      <td>₹39,990</td>\n",
              "      <td>Intel Core i3 Processor (11th Gen)8 GB DDR4 RA...</td>\n",
              "      <td>[Intel Core i3 Processor]</td>\n",
              "      <td>[8 GB DDR4 RAM]</td>\n",
              "      <td>[64 bit Windows 11 Operating System]</td>\n",
              "      <td>[512 GB SSD]</td>\n",
              "      <td>[Lenovo]</td>\n",
              "    </tr>\n",
              "    <tr>\n",
              "      <th>2</th>\n",
              "      <td>ASUS VivoBook 15 (2022) Core i3 10th Gen - (8 ...</td>\n",
              "      <td>4.3</td>\n",
              "      <td>₹32,990</td>\n",
              "      <td>Intel Core i3 Processor (10th Gen)8 GB DDR4 RA...</td>\n",
              "      <td>[Intel Core i3 Processor]</td>\n",
              "      <td>[8 GB DDR4 RAM]</td>\n",
              "      <td>[64 bit Windows 11 Operating System]</td>\n",
              "      <td>[512 GB SSD]</td>\n",
              "      <td>[ASUS]</td>\n",
              "    </tr>\n",
              "    <tr>\n",
              "      <th>3</th>\n",
              "      <td>HP Pavilion Ryzen 5 Hexa Core AMD R5-5600H - (...</td>\n",
              "      <td>4.4</td>\n",
              "      <td>₹49,990</td>\n",
              "      <td>AMD Ryzen 5 Hexa Core Processor8 GB DDR4 RAM64...</td>\n",
              "      <td>[AMD Ryzen 5 Hexa Core Processor]</td>\n",
              "      <td>[8 GB DDR4 RAM]</td>\n",
              "      <td>[64 bit Windows 10 Operating System]</td>\n",
              "      <td>[512 GB SSD]</td>\n",
              "      <td>[HP]</td>\n",
              "    </tr>\n",
              "    <tr>\n",
              "      <th>4</th>\n",
              "      <td>ASUS TUF Gaming F15 Core i5 10th Gen - (8 GB/5...</td>\n",
              "      <td>4.4</td>\n",
              "      <td>₹49,990</td>\n",
              "      <td>Intel Core i5 Processor (10th Gen)8 GB DDR4 RA...</td>\n",
              "      <td>[Intel Core i5 Processor]</td>\n",
              "      <td>[8 GB DDR4 RAM]</td>\n",
              "      <td>[]</td>\n",
              "      <td>[512 GB SSD]</td>\n",
              "      <td>[ASUS]</td>\n",
              "    </tr>\n",
              "  </tbody>\n",
              "</table>\n",
              "</div>\n",
              "      <button class=\"colab-df-convert\" onclick=\"convertToInteractive('df-0fdd71a0-7c46-47d0-bf94-3232283c7e27')\"\n",
              "              title=\"Convert this dataframe to an interactive table.\"\n",
              "              style=\"display:none;\">\n",
              "        \n",
              "  <svg xmlns=\"http://www.w3.org/2000/svg\" height=\"24px\"viewBox=\"0 0 24 24\"\n",
              "       width=\"24px\">\n",
              "    <path d=\"M0 0h24v24H0V0z\" fill=\"none\"/>\n",
              "    <path d=\"M18.56 5.44l.94 2.06.94-2.06 2.06-.94-2.06-.94-.94-2.06-.94 2.06-2.06.94zm-11 1L8.5 8.5l.94-2.06 2.06-.94-2.06-.94L8.5 2.5l-.94 2.06-2.06.94zm10 10l.94 2.06.94-2.06 2.06-.94-2.06-.94-.94-2.06-.94 2.06-2.06.94z\"/><path d=\"M17.41 7.96l-1.37-1.37c-.4-.4-.92-.59-1.43-.59-.52 0-1.04.2-1.43.59L10.3 9.45l-7.72 7.72c-.78.78-.78 2.05 0 2.83L4 21.41c.39.39.9.59 1.41.59.51 0 1.02-.2 1.41-.59l7.78-7.78 2.81-2.81c.8-.78.8-2.07 0-2.86zM5.41 20L4 18.59l7.72-7.72 1.47 1.35L5.41 20z\"/>\n",
              "  </svg>\n",
              "      </button>\n",
              "      \n",
              "  <style>\n",
              "    .colab-df-container {\n",
              "      display:flex;\n",
              "      flex-wrap:wrap;\n",
              "      gap: 12px;\n",
              "    }\n",
              "\n",
              "    .colab-df-convert {\n",
              "      background-color: #E8F0FE;\n",
              "      border: none;\n",
              "      border-radius: 50%;\n",
              "      cursor: pointer;\n",
              "      display: none;\n",
              "      fill: #1967D2;\n",
              "      height: 32px;\n",
              "      padding: 0 0 0 0;\n",
              "      width: 32px;\n",
              "    }\n",
              "\n",
              "    .colab-df-convert:hover {\n",
              "      background-color: #E2EBFA;\n",
              "      box-shadow: 0px 1px 2px rgba(60, 64, 67, 0.3), 0px 1px 3px 1px rgba(60, 64, 67, 0.15);\n",
              "      fill: #174EA6;\n",
              "    }\n",
              "\n",
              "    [theme=dark] .colab-df-convert {\n",
              "      background-color: #3B4455;\n",
              "      fill: #D2E3FC;\n",
              "    }\n",
              "\n",
              "    [theme=dark] .colab-df-convert:hover {\n",
              "      background-color: #434B5C;\n",
              "      box-shadow: 0px 1px 3px 1px rgba(0, 0, 0, 0.15);\n",
              "      filter: drop-shadow(0px 1px 2px rgba(0, 0, 0, 0.3));\n",
              "      fill: #FFFFFF;\n",
              "    }\n",
              "  </style>\n",
              "\n",
              "      <script>\n",
              "        const buttonEl =\n",
              "          document.querySelector('#df-0fdd71a0-7c46-47d0-bf94-3232283c7e27 button.colab-df-convert');\n",
              "        buttonEl.style.display =\n",
              "          google.colab.kernel.accessAllowed ? 'block' : 'none';\n",
              "\n",
              "        async function convertToInteractive(key) {\n",
              "          const element = document.querySelector('#df-0fdd71a0-7c46-47d0-bf94-3232283c7e27');\n",
              "          const dataTable =\n",
              "            await google.colab.kernel.invokeFunction('convertToInteractive',\n",
              "                                                     [key], {});\n",
              "          if (!dataTable) return;\n",
              "\n",
              "          const docLinkHtml = 'Like what you see? Visit the ' +\n",
              "            '<a target=\"_blank\" href=https://colab.research.google.com/notebooks/data_table.ipynb>data table notebook</a>'\n",
              "            + ' to learn more about interactive tables.';\n",
              "          element.innerHTML = '';\n",
              "          dataTable['output_type'] = 'display_data';\n",
              "          await google.colab.output.renderOutput(dataTable, element);\n",
              "          const docLink = document.createElement('div');\n",
              "          docLink.innerHTML = docLinkHtml;\n",
              "          element.appendChild(docLink);\n",
              "        }\n",
              "      </script>\n",
              "    </div>\n",
              "  </div>\n",
              "  "
            ]
          },
          "metadata": {},
          "execution_count": 58
        }
      ]
    },
    {
      "cell_type": "code",
      "source": [
        "df.info()"
      ],
      "metadata": {
        "colab": {
          "base_uri": "https://localhost:8080/"
        },
        "id": "-IF2QRLagjI-",
        "outputId": "4042387a-e743-4406-8106-e06cf944b3a0"
      },
      "execution_count": 59,
      "outputs": [
        {
          "output_type": "stream",
          "name": "stdout",
          "text": [
            "<class 'pandas.core.frame.DataFrame'>\n",
            "RangeIndex: 720 entries, 0 to 719\n",
            "Data columns (total 9 columns):\n",
            " #   Column     Non-Null Count  Dtype  \n",
            "---  ------     --------------  -----  \n",
            " 0   Product    720 non-null    object \n",
            " 1   Rating     581 non-null    float64\n",
            " 2   MRP        720 non-null    object \n",
            " 3   Feature    720 non-null    object \n",
            " 4   Processor  720 non-null    object \n",
            " 5   RAM        720 non-null    object \n",
            " 6   OS         720 non-null    object \n",
            " 7   Storage    720 non-null    object \n",
            " 8   Brand      720 non-null    object \n",
            "dtypes: float64(1), object(8)\n",
            "memory usage: 50.8+ KB\n"
          ]
        }
      ]
    },
    {
      "cell_type": "code",
      "source": [
        "df.isnull().sum()"
      ],
      "metadata": {
        "colab": {
          "base_uri": "https://localhost:8080/"
        },
        "id": "v20gqUpsglZB",
        "outputId": "18854d6f-35af-4e21-ad07-5a8feda7f8aa"
      },
      "execution_count": 60,
      "outputs": [
        {
          "output_type": "execute_result",
          "data": {
            "text/plain": [
              "Product        0\n",
              "Rating       139\n",
              "MRP            0\n",
              "Feature        0\n",
              "Processor      0\n",
              "RAM            0\n",
              "OS             0\n",
              "Storage        0\n",
              "Brand          0\n",
              "dtype: int64"
            ]
          },
          "metadata": {},
          "execution_count": 60
        }
      ]
    },
    {
      "cell_type": "code",
      "source": [
        "df.Processor = df.Processor.apply(lambda x : ''.join(x))\n",
        "df.RAM = df.RAM.apply(lambda x : ''.join(x))\n",
        "df.OS = df.OS.apply(lambda x : ''.join(x))\n",
        "df.Storage = df.Storage.apply(lambda x : ''.join(x))\n",
        "df.Brand = df.Brand.apply(lambda x : ''.join(x))\n",
        "df.MRP = df.MRP.apply(lambda x : x.replace('₹', '').replace(',', '')).astype(float)"
      ],
      "metadata": {
        "id": "sCkn05pOgqEO"
      },
      "execution_count": 61,
      "outputs": []
    },
    {
      "cell_type": "code",
      "source": [
        "df.head()"
      ],
      "metadata": {
        "colab": {
          "base_uri": "https://localhost:8080/",
          "height": 423
        },
        "id": "dTxEh7fVgqPQ",
        "outputId": "de9168a5-f4d8-4b83-bc78-15313a47f93f"
      },
      "execution_count": 62,
      "outputs": [
        {
          "output_type": "execute_result",
          "data": {
            "text/plain": [
              "                                             Product  Rating      MRP  \\\n",
              "0  Lenovo IdeaPad 3 Core i3 11th Gen - (8 GB/256 ...     4.2  36990.0   \n",
              "1  Lenovo IdeaPad 3 Core i3 11th Gen - (8 GB/512 ...     4.2  39990.0   \n",
              "2  ASUS VivoBook 15 (2022) Core i3 10th Gen - (8 ...     4.3  32990.0   \n",
              "3  HP Pavilion Ryzen 5 Hexa Core AMD R5-5600H - (...     4.4  49990.0   \n",
              "4  ASUS TUF Gaming F15 Core i5 10th Gen - (8 GB/5...     4.4  49990.0   \n",
              "\n",
              "                                             Feature  \\\n",
              "0  Intel Core i3 Processor (11th Gen)8 GB DDR4 RA...   \n",
              "1  Intel Core i3 Processor (11th Gen)8 GB DDR4 RA...   \n",
              "2  Intel Core i3 Processor (10th Gen)8 GB DDR4 RA...   \n",
              "3  AMD Ryzen 5 Hexa Core Processor8 GB DDR4 RAM64...   \n",
              "4  Intel Core i5 Processor (10th Gen)8 GB DDR4 RA...   \n",
              "\n",
              "                         Processor            RAM  \\\n",
              "0          Intel Core i3 Processor  8 GB DDR4 RAM   \n",
              "1          Intel Core i3 Processor  8 GB DDR4 RAM   \n",
              "2          Intel Core i3 Processor  8 GB DDR4 RAM   \n",
              "3  AMD Ryzen 5 Hexa Core Processor  8 GB DDR4 RAM   \n",
              "4          Intel Core i5 Processor  8 GB DDR4 RAM   \n",
              "\n",
              "                                   OS     Storage   Brand  \n",
              "0  64 bit Windows 11 Operating System  256 GB SSD  Lenovo  \n",
              "1  64 bit Windows 11 Operating System  512 GB SSD  Lenovo  \n",
              "2  64 bit Windows 11 Operating System  512 GB SSD    ASUS  \n",
              "3  64 bit Windows 10 Operating System  512 GB SSD      HP  \n",
              "4                                      512 GB SSD    ASUS  "
            ],
            "text/html": [
              "\n",
              "  <div id=\"df-1e60158e-0d7e-41d1-b357-b921224beb1c\">\n",
              "    <div class=\"colab-df-container\">\n",
              "      <div>\n",
              "<style scoped>\n",
              "    .dataframe tbody tr th:only-of-type {\n",
              "        vertical-align: middle;\n",
              "    }\n",
              "\n",
              "    .dataframe tbody tr th {\n",
              "        vertical-align: top;\n",
              "    }\n",
              "\n",
              "    .dataframe thead th {\n",
              "        text-align: right;\n",
              "    }\n",
              "</style>\n",
              "<table border=\"1\" class=\"dataframe\">\n",
              "  <thead>\n",
              "    <tr style=\"text-align: right;\">\n",
              "      <th></th>\n",
              "      <th>Product</th>\n",
              "      <th>Rating</th>\n",
              "      <th>MRP</th>\n",
              "      <th>Feature</th>\n",
              "      <th>Processor</th>\n",
              "      <th>RAM</th>\n",
              "      <th>OS</th>\n",
              "      <th>Storage</th>\n",
              "      <th>Brand</th>\n",
              "    </tr>\n",
              "  </thead>\n",
              "  <tbody>\n",
              "    <tr>\n",
              "      <th>0</th>\n",
              "      <td>Lenovo IdeaPad 3 Core i3 11th Gen - (8 GB/256 ...</td>\n",
              "      <td>4.2</td>\n",
              "      <td>36990.0</td>\n",
              "      <td>Intel Core i3 Processor (11th Gen)8 GB DDR4 RA...</td>\n",
              "      <td>Intel Core i3 Processor</td>\n",
              "      <td>8 GB DDR4 RAM</td>\n",
              "      <td>64 bit Windows 11 Operating System</td>\n",
              "      <td>256 GB SSD</td>\n",
              "      <td>Lenovo</td>\n",
              "    </tr>\n",
              "    <tr>\n",
              "      <th>1</th>\n",
              "      <td>Lenovo IdeaPad 3 Core i3 11th Gen - (8 GB/512 ...</td>\n",
              "      <td>4.2</td>\n",
              "      <td>39990.0</td>\n",
              "      <td>Intel Core i3 Processor (11th Gen)8 GB DDR4 RA...</td>\n",
              "      <td>Intel Core i3 Processor</td>\n",
              "      <td>8 GB DDR4 RAM</td>\n",
              "      <td>64 bit Windows 11 Operating System</td>\n",
              "      <td>512 GB SSD</td>\n",
              "      <td>Lenovo</td>\n",
              "    </tr>\n",
              "    <tr>\n",
              "      <th>2</th>\n",
              "      <td>ASUS VivoBook 15 (2022) Core i3 10th Gen - (8 ...</td>\n",
              "      <td>4.3</td>\n",
              "      <td>32990.0</td>\n",
              "      <td>Intel Core i3 Processor (10th Gen)8 GB DDR4 RA...</td>\n",
              "      <td>Intel Core i3 Processor</td>\n",
              "      <td>8 GB DDR4 RAM</td>\n",
              "      <td>64 bit Windows 11 Operating System</td>\n",
              "      <td>512 GB SSD</td>\n",
              "      <td>ASUS</td>\n",
              "    </tr>\n",
              "    <tr>\n",
              "      <th>3</th>\n",
              "      <td>HP Pavilion Ryzen 5 Hexa Core AMD R5-5600H - (...</td>\n",
              "      <td>4.4</td>\n",
              "      <td>49990.0</td>\n",
              "      <td>AMD Ryzen 5 Hexa Core Processor8 GB DDR4 RAM64...</td>\n",
              "      <td>AMD Ryzen 5 Hexa Core Processor</td>\n",
              "      <td>8 GB DDR4 RAM</td>\n",
              "      <td>64 bit Windows 10 Operating System</td>\n",
              "      <td>512 GB SSD</td>\n",
              "      <td>HP</td>\n",
              "    </tr>\n",
              "    <tr>\n",
              "      <th>4</th>\n",
              "      <td>ASUS TUF Gaming F15 Core i5 10th Gen - (8 GB/5...</td>\n",
              "      <td>4.4</td>\n",
              "      <td>49990.0</td>\n",
              "      <td>Intel Core i5 Processor (10th Gen)8 GB DDR4 RA...</td>\n",
              "      <td>Intel Core i5 Processor</td>\n",
              "      <td>8 GB DDR4 RAM</td>\n",
              "      <td></td>\n",
              "      <td>512 GB SSD</td>\n",
              "      <td>ASUS</td>\n",
              "    </tr>\n",
              "  </tbody>\n",
              "</table>\n",
              "</div>\n",
              "      <button class=\"colab-df-convert\" onclick=\"convertToInteractive('df-1e60158e-0d7e-41d1-b357-b921224beb1c')\"\n",
              "              title=\"Convert this dataframe to an interactive table.\"\n",
              "              style=\"display:none;\">\n",
              "        \n",
              "  <svg xmlns=\"http://www.w3.org/2000/svg\" height=\"24px\"viewBox=\"0 0 24 24\"\n",
              "       width=\"24px\">\n",
              "    <path d=\"M0 0h24v24H0V0z\" fill=\"none\"/>\n",
              "    <path d=\"M18.56 5.44l.94 2.06.94-2.06 2.06-.94-2.06-.94-.94-2.06-.94 2.06-2.06.94zm-11 1L8.5 8.5l.94-2.06 2.06-.94-2.06-.94L8.5 2.5l-.94 2.06-2.06.94zm10 10l.94 2.06.94-2.06 2.06-.94-2.06-.94-.94-2.06-.94 2.06-2.06.94z\"/><path d=\"M17.41 7.96l-1.37-1.37c-.4-.4-.92-.59-1.43-.59-.52 0-1.04.2-1.43.59L10.3 9.45l-7.72 7.72c-.78.78-.78 2.05 0 2.83L4 21.41c.39.39.9.59 1.41.59.51 0 1.02-.2 1.41-.59l7.78-7.78 2.81-2.81c.8-.78.8-2.07 0-2.86zM5.41 20L4 18.59l7.72-7.72 1.47 1.35L5.41 20z\"/>\n",
              "  </svg>\n",
              "      </button>\n",
              "      \n",
              "  <style>\n",
              "    .colab-df-container {\n",
              "      display:flex;\n",
              "      flex-wrap:wrap;\n",
              "      gap: 12px;\n",
              "    }\n",
              "\n",
              "    .colab-df-convert {\n",
              "      background-color: #E8F0FE;\n",
              "      border: none;\n",
              "      border-radius: 50%;\n",
              "      cursor: pointer;\n",
              "      display: none;\n",
              "      fill: #1967D2;\n",
              "      height: 32px;\n",
              "      padding: 0 0 0 0;\n",
              "      width: 32px;\n",
              "    }\n",
              "\n",
              "    .colab-df-convert:hover {\n",
              "      background-color: #E2EBFA;\n",
              "      box-shadow: 0px 1px 2px rgba(60, 64, 67, 0.3), 0px 1px 3px 1px rgba(60, 64, 67, 0.15);\n",
              "      fill: #174EA6;\n",
              "    }\n",
              "\n",
              "    [theme=dark] .colab-df-convert {\n",
              "      background-color: #3B4455;\n",
              "      fill: #D2E3FC;\n",
              "    }\n",
              "\n",
              "    [theme=dark] .colab-df-convert:hover {\n",
              "      background-color: #434B5C;\n",
              "      box-shadow: 0px 1px 3px 1px rgba(0, 0, 0, 0.15);\n",
              "      filter: drop-shadow(0px 1px 2px rgba(0, 0, 0, 0.3));\n",
              "      fill: #FFFFFF;\n",
              "    }\n",
              "  </style>\n",
              "\n",
              "      <script>\n",
              "        const buttonEl =\n",
              "          document.querySelector('#df-1e60158e-0d7e-41d1-b357-b921224beb1c button.colab-df-convert');\n",
              "        buttonEl.style.display =\n",
              "          google.colab.kernel.accessAllowed ? 'block' : 'none';\n",
              "\n",
              "        async function convertToInteractive(key) {\n",
              "          const element = document.querySelector('#df-1e60158e-0d7e-41d1-b357-b921224beb1c');\n",
              "          const dataTable =\n",
              "            await google.colab.kernel.invokeFunction('convertToInteractive',\n",
              "                                                     [key], {});\n",
              "          if (!dataTable) return;\n",
              "\n",
              "          const docLinkHtml = 'Like what you see? Visit the ' +\n",
              "            '<a target=\"_blank\" href=https://colab.research.google.com/notebooks/data_table.ipynb>data table notebook</a>'\n",
              "            + ' to learn more about interactive tables.';\n",
              "          element.innerHTML = '';\n",
              "          dataTable['output_type'] = 'display_data';\n",
              "          await google.colab.output.renderOutput(dataTable, element);\n",
              "          const docLink = document.createElement('div');\n",
              "          docLink.innerHTML = docLinkHtml;\n",
              "          element.appendChild(docLink);\n",
              "        }\n",
              "      </script>\n",
              "    </div>\n",
              "  </div>\n",
              "  "
            ]
          },
          "metadata": {},
          "execution_count": 62
        }
      ]
    },
    {
      "cell_type": "code",
      "source": [
        "df.info()"
      ],
      "metadata": {
        "colab": {
          "base_uri": "https://localhost:8080/"
        },
        "id": "x5BQtfKEgqR9",
        "outputId": "751040ab-e93e-44b3-e726-805ff4db46de"
      },
      "execution_count": 63,
      "outputs": [
        {
          "output_type": "stream",
          "name": "stdout",
          "text": [
            "<class 'pandas.core.frame.DataFrame'>\n",
            "RangeIndex: 720 entries, 0 to 719\n",
            "Data columns (total 9 columns):\n",
            " #   Column     Non-Null Count  Dtype  \n",
            "---  ------     --------------  -----  \n",
            " 0   Product    720 non-null    object \n",
            " 1   Rating     581 non-null    float64\n",
            " 2   MRP        720 non-null    float64\n",
            " 3   Feature    720 non-null    object \n",
            " 4   Processor  720 non-null    object \n",
            " 5   RAM        720 non-null    object \n",
            " 6   OS         720 non-null    object \n",
            " 7   Storage    720 non-null    object \n",
            " 8   Brand      720 non-null    object \n",
            "dtypes: float64(2), object(7)\n",
            "memory usage: 50.8+ KB\n"
          ]
        }
      ]
    },
    {
      "cell_type": "code",
      "source": [
        "df['Rating'].mean()"
      ],
      "metadata": {
        "colab": {
          "base_uri": "https://localhost:8080/"
        },
        "id": "u8SmiOekmeUA",
        "outputId": "98e42770-495b-4a58-f0c3-ef0054334504"
      },
      "execution_count": 64,
      "outputs": [
        {
          "output_type": "execute_result",
          "data": {
            "text/plain": [
              "4.321170395869192"
            ]
          },
          "metadata": {},
          "execution_count": 64
        }
      ]
    },
    {
      "cell_type": "code",
      "source": [
        "df['Rating'].median()"
      ],
      "metadata": {
        "colab": {
          "base_uri": "https://localhost:8080/"
        },
        "id": "ovNpLdPGmheT",
        "outputId": "a3999ad8-db43-42e0-c15c-ffc7f3d27f18"
      },
      "execution_count": 65,
      "outputs": [
        {
          "output_type": "execute_result",
          "data": {
            "text/plain": [
              "4.3"
            ]
          },
          "metadata": {},
          "execution_count": 65
        }
      ]
    },
    {
      "cell_type": "code",
      "source": [
        "df['Rating']=df['Rating'].fillna('4.3')"
      ],
      "metadata": {
        "id": "mb3ysFE_l68G"
      },
      "execution_count": 66,
      "outputs": []
    },
    {
      "cell_type": "code",
      "source": [
        "df.isnull().sum()"
      ],
      "metadata": {
        "colab": {
          "base_uri": "https://localhost:8080/"
        },
        "id": "AZ4xUFbyl7Dj",
        "outputId": "850ddfeb-e1ec-4163-807f-73007cf2cd02"
      },
      "execution_count": 67,
      "outputs": [
        {
          "output_type": "execute_result",
          "data": {
            "text/plain": [
              "Product      0\n",
              "Rating       0\n",
              "MRP          0\n",
              "Feature      0\n",
              "Processor    0\n",
              "RAM          0\n",
              "OS           0\n",
              "Storage      0\n",
              "Brand        0\n",
              "dtype: int64"
            ]
          },
          "metadata": {},
          "execution_count": 67
        }
      ]
    },
    {
      "cell_type": "code",
      "source": [
        "df['MRP'].mean()"
      ],
      "metadata": {
        "colab": {
          "base_uri": "https://localhost:8080/"
        },
        "id": "noSvriX0iOm3",
        "outputId": "6ca69fe4-420c-4f51-843c-fde4abc132f3"
      },
      "execution_count": 68,
      "outputs": [
        {
          "output_type": "execute_result",
          "data": {
            "text/plain": [
              "81605.8375"
            ]
          },
          "metadata": {},
          "execution_count": 68
        }
      ]
    },
    {
      "cell_type": "code",
      "source": [
        "print(df['MRP'].min())\n",
        "\n",
        "print(df['MRP'].max())"
      ],
      "metadata": {
        "colab": {
          "base_uri": "https://localhost:8080/"
        },
        "id": "VyLEvNybiOpg",
        "outputId": "53687804-00e1-4317-db7c-e9e9d7b77e5f"
      },
      "execution_count": 69,
      "outputs": [
        {
          "output_type": "stream",
          "name": "stdout",
          "text": [
            "14990.0\n",
            "434830.0\n"
          ]
        }
      ]
    },
    {
      "cell_type": "code",
      "source": [
        "df['MRP'].std()"
      ],
      "metadata": {
        "colab": {
          "base_uri": "https://localhost:8080/"
        },
        "id": "Jn8K6La5iOsI",
        "outputId": "c5e60fb2-1156-4fd4-bd18-289fdd477f80"
      },
      "execution_count": 70,
      "outputs": [
        {
          "output_type": "execute_result",
          "data": {
            "text/plain": [
              "61552.95510244988"
            ]
          },
          "metadata": {},
          "execution_count": 70
        }
      ]
    },
    {
      "cell_type": "code",
      "source": [
        "df['MRP'].median()"
      ],
      "metadata": {
        "colab": {
          "base_uri": "https://localhost:8080/"
        },
        "id": "eLWp40R7iOvO",
        "outputId": "c526e5b5-591c-4a8f-911b-694665ef2de6"
      },
      "execution_count": 71,
      "outputs": [
        {
          "output_type": "execute_result",
          "data": {
            "text/plain": [
              "59990.0"
            ]
          },
          "metadata": {},
          "execution_count": 71
        }
      ]
    },
    {
      "cell_type": "code",
      "source": [
        "print(df['MRP'].quantile(0.25))\n",
        "\n",
        "print(df['MRP'].quantile(0.75))"
      ],
      "metadata": {
        "colab": {
          "base_uri": "https://localhost:8080/"
        },
        "id": "jcF_asxsiOyd",
        "outputId": "9c86d7ff-001d-438c-c1ca-9ab7570cad9d"
      },
      "execution_count": 72,
      "outputs": [
        {
          "output_type": "stream",
          "name": "stdout",
          "text": [
            "38996.75\n",
            "95240.0\n"
          ]
        }
      ]
    },
    {
      "cell_type": "code",
      "source": [
        "df['MRP'].plot(kind='box')"
      ],
      "metadata": {
        "colab": {
          "base_uri": "https://localhost:8080/",
          "height": 447
        },
        "id": "nBA3BbrGiO1f",
        "outputId": "8f22c51d-f1bf-4ac0-bfee-a95fb0c5c85a"
      },
      "execution_count": 73,
      "outputs": [
        {
          "output_type": "execute_result",
          "data": {
            "text/plain": [
              "<Axes: >"
            ]
          },
          "metadata": {},
          "execution_count": 73
        },
        {
          "output_type": "display_data",
          "data": {
            "text/plain": [
              "<Figure size 640x480 with 1 Axes>"
            ],
            "image/png": "[encoded data removed]"
          },
          "metadata": {}
        }
      ]
    },
    {
      "cell_type": "code",
      "source": [
        "df['MRP'].plot(kind='kde')"
      ],
      "metadata": {
        "colab": {
          "base_uri": "https://localhost:8080/",
          "height": 462
        },
        "id": "jt8tCBgClsSS",
        "outputId": "1d97eae9-04f5-4666-de8e-c1723ec44f93"
      },
      "execution_count": 74,
      "outputs": [
        {
          "output_type": "execute_result",
          "data": {
            "text/plain": [
              "<Axes: ylabel='Density'>"
            ]
          },
          "metadata": {},
          "execution_count": 74
        },
        {
          "output_type": "display_data",
          "data": {
            "text/plain": [
              "<Figure size 640x480 with 1 Axes>"
            ],
            "image/png": "[encoded data removed]"
          },
          "metadata": {}
        }
      ]
    },
    {
      "cell_type": "code",
      "source": [
        "df.boxplot(column='MRP', by='Storage', figsize=(15, 7))"
      ],
      "metadata": {
        "colab": {
          "base_uri": "https://localhost:8080/",
          "height": 510
        },
        "id": "l_LtSJc8jAho",
        "outputId": "69bd8995-9b77-403c-aa8f-f64d31aefd56"
      },
      "execution_count": 75,
      "outputs": [
        {
          "output_type": "execute_result",
          "data": {
            "text/plain": [
              "<Axes: title={'center': 'MRP'}, xlabel='Storage'>"
            ]
          },
          "metadata": {},
          "execution_count": 75
        },
        {
          "output_type": "display_data",
          "data": {
            "text/plain": [
              "<Figure size 1500x700 with 1 Axes>"
            ],
            "image/png": "[encoded data removed]"
          },
          "metadata": {}
        }
      ]
    },
    {
      "cell_type": "code",
      "source": [
        "df.boxplot(column='MRP', by='Brand', figsize=(15, 7))\n"
      ],
      "metadata": {
        "colab": {
          "base_uri": "https://localhost:8080/",
          "height": 510
        },
        "id": "lFF-BVMpgqVb",
        "outputId": "859ec1de-9598-4f77-cd66-d81fcfe6f67c"
      },
      "execution_count": 76,
      "outputs": [
        {
          "output_type": "execute_result",
          "data": {
            "text/plain": [
              "<Axes: title={'center': 'MRP'}, xlabel='Brand'>"
            ]
          },
          "metadata": {},
          "execution_count": 76
        },
        {
          "output_type": "display_data",
          "data": {
            "text/plain": [
              "<Figure size 1500x700 with 1 Axes>"
            ],
            "image/png": "[encoded data removed]"
          },
          "metadata": {}
        }
      ]
    },
    {
      "cell_type": "code",
      "source": [
        "df.groupby(['Brand'])['MRP'].max().plot(kind = 'bar' ,figsize=(15,7))"
      ],
      "metadata": {
        "colab": {
          "base_uri": "https://localhost:8080/",
          "height": 543
        },
        "id": "r1VDD3wxhQSM",
        "outputId": "ed79ec4d-97e6-4ed1-d88f-34c93437c4db"
      },
      "execution_count": 77,
      "outputs": [
        {
          "output_type": "execute_result",
          "data": {
            "text/plain": [
              "<Axes: xlabel='Brand'>"
            ]
          },
          "metadata": {},
          "execution_count": 77
        },
        {
          "output_type": "display_data",
          "data": {
            "text/plain": [
              "<Figure size 1500x700 with 1 Axes>"
            ],
            "image/png": "[encoded data removed]"
          },
          "metadata": {}
        }
      ]
    },
    {
      "cell_type": "code",
      "source": [
        "df.boxplot(column='MRP', by='Rating', figsize=(15, 7))"
      ],
      "metadata": {
        "colab": {
          "base_uri": "https://localhost:8080/",
          "height": 510
        },
        "id": "jc25vC33iBNX",
        "outputId": "ce1db397-77b8-4704-f7a8-8d0a9bfb2dbe"
      },
      "execution_count": 78,
      "outputs": [
        {
          "output_type": "execute_result",
          "data": {
            "text/plain": [
              "<Axes: title={'center': 'MRP'}, xlabel='Rating'>"
            ]
          },
          "metadata": {},
          "execution_count": 78
        },
        {
          "output_type": "display_data",
          "data": {
            "text/plain": [
              "<Figure size 1500x700 with 1 Axes>"
            ],
            "image/png": "[encoded data removed]"
          },
          "metadata": {}
        }
      ]
    },
    {
      "cell_type": "code",
      "source": [
        "cleaned_data=df.to_csv('laptop_sales.csv', index=False)"
      ],
      "metadata": {
        "id": "qjuuhj2jkL1N"
      },
      "execution_count": 79,
      "outputs": []
    },
    {
      "cell_type": "code",
      "source": [
        "from google.colab import files\n",
        "files.download('laptop_sales.csv')"
      ],
      "metadata": {
        "colab": {
          "base_uri": "https://localhost:8080/",
          "height": 17
        },
        "id": "M7kvvOyKlMyM",
        "outputId": "e0253ee4-e342-4841-e140-34bf15ac0913"
      },
      "execution_count": 80,
      "outputs": [
        {
          "output_type": "display_data",
          "data": {
            "text/plain": [
              "<IPython.core.display.Javascript object>"
            ],
            "application/javascript": [
              "\n",
              "    async function download(id, filename, size) {\n",
              "      if (!google.colab.kernel.accessAllowed) {\n",
              "        return;\n",
              "      }\n",
              "      const div = document.createElement('div');\n",
              "      const label = document.createElement('label');\n",
              "      label.textContent = `Downloading \"${filename}\": `;\n",
              "      div.appendChild(label);\n",
              "      const progress = document.createElement('progress');\n",
              "      progress.max = size;\n",
              "      div.appendChild(progress);\n",
              "      document.body.appendChild(div);\n",
              "\n",
              "      const buffers = [];\n",
              "      let downloaded = 0;\n",
              "\n",
              "      const channel = await google.colab.kernel.comms.open(id);\n",
              "      // Send a message to notify the kernel that we're ready.\n",
              "      channel.send({})\n",
              "\n",
              "      for await (const message of channel.messages) {\n",
              "        // Send a message to notify the kernel that we're ready.\n",
              "        channel.send({})\n",
              "        if (message.buffers) {\n",
              "          for (const buffer of message.buffers) {\n",
              "            buffers.push(buffer);\n",
              "            downloaded += buffer.byteLength;\n",
              "            progress.value = downloaded;\n",
              "          }\n",
              "        }\n",
              "      }\n",
              "      const blob = new Blob(buffers, {type: 'application/binary'});\n",
              "      const a = document.createElement('a');\n",
              "      a.href = window.URL.createObjectURL(blob);\n",
              "      a.download = filename;\n",
              "      div.appendChild(a);\n",
              "      a.click();\n",
              "      div.remove();\n",
              "    }\n",
              "  "
            ]
          },
          "metadata": {}
        },
        {
          "output_type": "display_data",
          "data": {
            "text/plain": [
              "<IPython.core.display.Javascript object>"
            ],
            "application/javascript": [
              "download(\"download_d0cf53db-b5d3-4f6f-a6dd-d83bb7812a04\", \"laptop_sales.csv\", 275489)"
            ]
          },
          "metadata": {}
        }
      ]
    }
  ]
}